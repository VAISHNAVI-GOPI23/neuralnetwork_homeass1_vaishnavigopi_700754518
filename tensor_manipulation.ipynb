{
  "nbformat": 4,
  "nbformat_minor": 0,
  "metadata": {
    "colab": {
      "provenance": []
    },
    "kernelspec": {
      "name": "python3",
      "display_name": "Python 3"
    },
    "language_info": {
      "name": "python"
    }
  },
  "cells": [
    {
      "cell_type": "code",
      "execution_count": null,
      "metadata": {
        "colab": {
          "base_uri": "https://localhost:8080/"
        },
        "id": "2pi1uAuyZFF1",
        "outputId": "49b841ba-a6f8-452f-994d-87744b538ce7"
      },
      "outputs": [
        {
          "output_type": "stream",
          "name": "stdout",
          "text": [
            "Original Tensor:\n",
            " tf.Tensor(\n",
            "[[0.45912254 0.2961545  0.3522054  0.08382297 0.5438416  0.9693885 ]\n",
            " [0.19878614 0.31665885 0.47493386 0.84028554 0.8792926  0.54431903]\n",
            " [0.6900742  0.09686124 0.09430027 0.91156566 0.95636916 0.0046593 ]\n",
            " [0.15906489 0.7990134  0.04981637 0.3007598  0.36582255 0.07607543]], shape=(4, 6), dtype=float32)\n",
            "\n",
            "Rank of original tensor: 2\n",
            "Shape of original tensor: [4 6]\n",
            "\n",
            "Reshaped Tensor (2, 3, 4):\n",
            " tf.Tensor(\n",
            "[[[0.45912254 0.2961545  0.3522054  0.08382297]\n",
            "  [0.5438416  0.9693885  0.19878614 0.31665885]\n",
            "  [0.47493386 0.84028554 0.8792926  0.54431903]]\n",
            "\n",
            " [[0.6900742  0.09686124 0.09430027 0.91156566]\n",
            "  [0.95636916 0.0046593  0.15906489 0.7990134 ]\n",
            "  [0.04981637 0.3007598  0.36582255 0.07607543]]], shape=(2, 3, 4), dtype=float32)\n",
            "Transposed Tensor (3, 2, 4):\n",
            " tf.Tensor(\n",
            "[[[0.45912254 0.2961545  0.3522054  0.08382297]\n",
            "  [0.6900742  0.09686124 0.09430027 0.91156566]]\n",
            "\n",
            " [[0.5438416  0.9693885  0.19878614 0.31665885]\n",
            "  [0.95636916 0.0046593  0.15906489 0.7990134 ]]\n",
            "\n",
            " [[0.47493386 0.84028554 0.8792926  0.54431903]\n",
            "  [0.04981637 0.3007598  0.36582255 0.07607543]]], shape=(3, 2, 4), dtype=float32)\n",
            "\n",
            "Broadcasted Tensor (3, 2, 4):\n",
            " tf.Tensor(\n",
            "[[[1. 2. 3. 4.]\n",
            "  [1. 2. 3. 4.]]\n",
            "\n",
            " [[1. 2. 3. 4.]\n",
            "  [1. 2. 3. 4.]]\n",
            "\n",
            " [[1. 2. 3. 4.]\n",
            "  [1. 2. 3. 4.]]], shape=(3, 2, 4), dtype=float32)\n",
            "Result after Addition:\n",
            " tf.Tensor(\n",
            "[[[1.4591225 2.2961545 3.3522053 4.083823 ]\n",
            "  [1.6900742 2.0968614 3.0943003 4.911566 ]]\n",
            "\n",
            " [[1.5438416 2.9693885 3.1987863 4.316659 ]\n",
            "  [1.9563692 2.0046592 3.1590648 4.799013 ]]\n",
            "\n",
            " [[1.4749339 2.8402855 3.8792925 4.544319 ]\n",
            "  [1.0498164 2.3007598 3.3658226 4.0760756]]], shape=(3, 2, 4), dtype=float32)\n"
          ]
        }
      ],
      "source": [
        "# 📌 Tensor Manipulations & Reshaping with TensorFlow\n",
        "\n",
        "import tensorflow as tf\n",
        "\n",
        "# 1️⃣ Create a random tensor of shape (4, 6)\n",
        "tensor = tf.random.uniform(shape=(4, 6))\n",
        "print(\"Original Tensor:\\n\", tensor)\n",
        "\n",
        "# 2️⃣ Find its rank and shape using TensorFlow functions\n",
        "rank = tf.rank(tensor)\n",
        "shape = tf.shape(tensor)\n",
        "print(\"\\nRank of original tensor:\", rank.numpy())\n",
        "print(\"Shape of original tensor:\", shape.numpy())\n",
        "\n",
        "# 3️⃣ Reshape it into (2, 3, 4)\n",
        "reshaped_tensor = tf.reshape(tensor, (2, 3, 4))\n",
        "print(\"\\nReshaped Tensor (2, 3, 4):\\n\", reshaped_tensor)\n",
        "\n",
        "# Transpose it to (3, 2, 4)\n",
        "transposed_tensor = tf.transpose(reshaped_tensor, perm=[1, 0, 2])\n",
        "print(\"Transposed Tensor (3, 2, 4):\\n\", transposed_tensor)\n",
        "\n",
        "# 4️⃣ Broadcast a smaller tensor (1, 4) to match the larger tensor and add them\n",
        "small_tensor = tf.constant([[1.0, 2.0, 3.0, 4.0]])  # Shape: (1, 4)\n",
        "broadcasted_tensor = tf.broadcast_to(small_tensor, shape=(3, 2, 4))\n",
        "print(\"\\nBroadcasted Tensor (3, 2, 4):\\n\", broadcasted_tensor)\n",
        "\n",
        "# Perform addition\n",
        "result = transposed_tensor + broadcasted_tensor\n",
        "print(\"Result after Addition:\\n\", result)\n"
      ]
    }
  ]
}